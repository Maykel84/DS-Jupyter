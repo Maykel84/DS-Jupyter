{
 "cells": [
  {
   "cell_type": "markdown",
   "id": "ffd85806-6ccf-43f4-b84a-ef714309fab1",
   "metadata": {},
   "source": [
    "<h1>  Data Science Tools and Ecosystem"
   ]
  },
  {
   "cell_type": "markdown",
   "id": "6b4404b4-8407-485c-9cc7-d906afbde440",
   "metadata": {},
   "source": [
    "In this notebook, Data Science Tools and Ecosystem are summarized.\n"
   ]
  },
  {
   "cell_type": "markdown",
   "id": "e81f6b95-0044-43aa-a57f-5a3a07a5fef7",
   "metadata": {},
   "source": [
    "1. Python\n",
    "2. SQL\n",
    "3. R\n",
    "4. C++  "
   ]
  },
  {
   "cell_type": "markdown",
   "id": "cc83b0b9-64cf-4f2f-b899-797136c897d4",
   "metadata": {},
   "source": [
    "1. NumPy\n",
    "2. Pandas\n",
    "3. Matplotlib\n",
    "4. Seaborn\n"
   ]
  },
  {
   "cell_type": "markdown",
   "id": "278fde60-5a68-4ef4-95fd-4b753ea8c24b",
   "metadata": {},
   "source": [
    "|Data Science Tools |\n",
    "| ------ | \n",
    "|JupyterNotebook | \n",
    "|Pandas| \n",
    "|RStudio | \n",
    "|ggplot2 | "
   ]
  },
  {
   "cell_type": "markdown",
   "id": "d23ed096-8d59-49db-8476-1558306682f4",
   "metadata": {},
   "source": [
    "__Objectives:__\n",
    "* Python\n",
    "* R\n",
    "* SQL\n",
    "* C++"
   ]
  },
  {
   "cell_type": "markdown",
   "id": "76cbf6ed-b2ee-48ad-ac04-4cb5f2d4336d",
   "metadata": {},
   "source": [
    "<h3> Below are a few examples of evaluating arithmetic expressions in Python."
   ]
  },
  {
   "cell_type": "code",
   "execution_count": 1,
   "id": "5028de0e-ac43-4dac-97ff-445890a4f0fe",
   "metadata": {
    "tags": []
   },
   "outputs": [],
   "source": [
    "# This a simple arithmetic expression to mutiply then add integers."
   ]
  },
  {
   "cell_type": "code",
   "execution_count": 2,
   "id": "b93b036b-1be1-4236-bfa5-59baf9fa810f",
   "metadata": {
    "tags": []
   },
   "outputs": [
    {
     "data": {
      "text/plain": [
       "17"
      ]
     },
     "execution_count": 2,
     "metadata": {},
     "output_type": "execute_result"
    }
   ],
   "source": [
    "(3*4)+5"
   ]
  },
  {
   "cell_type": "code",
   "execution_count": 8,
   "id": "84f61e70-b4c9-4fbd-a4db-8b7fa49715e0",
   "metadata": {
    "tags": []
   },
   "outputs": [],
   "source": [
    "# Convert minutes to hours"
   ]
  },
  {
   "cell_type": "code",
   "execution_count": 7,
   "id": "69a74ffb-38db-44eb-a52d-f6d0f5d83da1",
   "metadata": {
    "tags": []
   },
   "outputs": [
    {
     "data": {
      "text/plain": [
       "3.3333333333333335"
      ]
     },
     "execution_count": 7,
     "metadata": {},
     "output_type": "execute_result"
    }
   ],
   "source": [
    "200/60"
   ]
  },
  {
   "cell_type": "markdown",
   "id": "86771f38-7c58-46db-8166-8a56cd7c1c7e",
   "metadata": {},
   "source": [
    "<H2>Author: </H2>\n",
    "    Michal Moleda"
   ]
  },
  {
   "cell_type": "code",
   "execution_count": null,
   "id": "1d6d2bcc-2675-4362-9dd2-dddcba2b058e",
   "metadata": {},
   "outputs": [],
   "source": []
  }
 ],
 "metadata": {
  "kernelspec": {
   "display_name": "Python",
   "language": "python",
   "name": "conda-env-python-py"
  },
  "language_info": {
   "codemirror_mode": {
    "name": "ipython",
    "version": 3
   },
   "file_extension": ".py",
   "mimetype": "text/x-python",
   "name": "python",
   "nbconvert_exporter": "python",
   "pygments_lexer": "ipython3",
   "version": "3.7.12"
  }
 },
 "nbformat": 4,
 "nbformat_minor": 5
}
